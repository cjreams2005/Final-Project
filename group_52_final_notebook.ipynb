{
 "cells": [
  {
   "cell_type": "code",
   "execution_count": 27,
   "metadata": {},
   "outputs": [],
   "source": [
    "import pandas as pd\n",
    "sorted_parks = pd.read_csv(\"final_metrics/sorted_park_counts_by_neighborhood.csv\")\n",
    "sorted_trees = pd.read_csv(\"final_metrics/sorted_trees_counts_by_neighborhood.csv\")\n",
    "sorted_water = pd.read_csv(\"final_metrics/sorted_water_counts_by_neighborhood.csv\")"
   ]
  },
  {
   "cell_type": "code",
   "execution_count": 28,
   "metadata": {},
   "outputs": [
    {
     "name": "stdout",
     "output_type": "stream",
     "text": [
      "                 neighborhood  count_parks  park_rank  count_trees  tree_rank  \\\n",
      "0         Squirrel Hill South          5.0         10         5073          1   \n",
      "1                Point Breeze          6.0          7         1316          8   \n",
      "2                East Liberty          9.0          1         1366          7   \n",
      "3                  Bloomfield          3.0         16         1436          6   \n",
      "4   Central Business District          7.0          2         1002         10   \n",
      "..                        ...          ...        ...          ...        ...   \n",
      "85                      Bluff          1.0         56          222         58   \n",
      "86              New Homestead          1.0         69          183         61   \n",
      "87              Spring Garden          1.0         49           55         78   \n",
      "88              Homewood West          1.0         67           92         72   \n",
      "89                       Hays          1.0         60            1         90   \n",
      "\n",
      "    count  water_rank  average_rank  \n",
      "0    14.0         1.0      4.000000  \n",
      "1     7.0         7.0      7.333333  \n",
      "2     6.0        15.0      7.666667  \n",
      "3     8.0         3.0      8.333333  \n",
      "4     4.0        20.0     10.666667  \n",
      "..    ...         ...           ...  \n",
      "85    1.0        64.0     59.333333  \n",
      "86    1.0        60.0     63.333333  \n",
      "87    1.0        66.0     64.333333  \n",
      "88    1.0        54.0     64.333333  \n",
      "89    2.0        44.0     64.666667  \n",
      "\n",
      "[90 rows x 8 columns]\n"
     ]
    }
   ],
   "source": [
    "sorted_parks['park_rank'] = sorted_parks.index + 1\n",
    "sorted_trees['tree_rank'] = sorted_trees.index + 1\n",
    "sorted_water['water_rank'] = sorted_water.index + 1\n",
    "combined_ranks = sorted_parks.merge(sorted_trees[['neighborhood', 'count', 'tree_rank']], on='neighborhood', how='outer', suffixes=('_parks', '_trees')\n",
    ")\n",
    "combined_ranks = combined_ranks.merge(sorted_water[['neighborhood', 'count', 'water_rank']], on='neighborhood', how='outer', suffixes=('', '_water')\n",
    ")\n",
    "combined_ranks = combined_ranks.fillna({'park_rank': 0, 'tree_rank': 0, 'water_rank': 0, 'counts_parks': 0, 'counts_trees': 0, 'counts': 0})\n",
    "\n",
    "combined_ranks['average_rank'] = (combined_ranks['park_rank'] + combined_ranks['tree_rank'] + combined_ranks['water_rank']) / 3\n",
    "\n",
    "combined_ranks_sorted = combined_ranks.sort_values(by='average_rank').reset_index(drop=True)\n",
    "\n",
    "file_path = \"final_metrics/combined_average_rankings_by_neighborhood.csv\"\n",
    "combined_ranks_sorted.to_csv(file_path, index=False)\n",
    "print(combined_ranks_sorted)"
   ]
  }
 ],
 "metadata": {
  "kernelspec": {
   "display_name": "cmpinf0010",
   "language": "python",
   "name": "python3"
  },
  "language_info": {
   "codemirror_mode": {
    "name": "ipython",
    "version": 3
   },
   "file_extension": ".py",
   "mimetype": "text/x-python",
   "name": "python",
   "nbconvert_exporter": "python",
   "pygments_lexer": "ipython3",
   "version": "3.12.4"
  }
 },
 "nbformat": 4,
 "nbformat_minor": 2
}
