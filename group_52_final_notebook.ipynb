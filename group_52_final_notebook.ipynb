{
 "cells": [
  {
   "cell_type": "code",
   "execution_count": 16,
   "metadata": {},
   "outputs": [],
   "source": [
    "import pandas as pd\n",
    "sorted_parks = pd.read_csv(\"final_metrics/sorted_park_counts_by_neighborhood.csv\")\n",
    "sorted_trees = pd.read_csv(\"final_metrics/sorted_trees_counts_by_neighborhood.csv\")\n"
   ]
  },
  {
   "cell_type": "code",
   "execution_count": 15,
   "metadata": {},
   "outputs": [
    {
     "name": "stdout",
     "output_type": "stream",
     "text": [
      "                 neighborhood  count  park_rank  tree_rank  average_rank\n",
      "0                East Liberty    9.0          1          7           4.0\n",
      "1         Squirrel Hill South    5.0         10          1           5.5\n",
      "2   Central Business District    7.0          2         10           6.0\n",
      "3                Point Breeze    6.0          7          8           7.5\n",
      "4            South Side Flats    5.0         11          4           7.5\n",
      "..                        ...    ...        ...        ...           ...\n",
      "85             Chartiers City    0.0         84         79          81.5\n",
      "86                 Glen Hazel    0.0         78         89          83.5\n",
      "87          Arlington Heights    0.0         83         86          84.5\n",
      "88                South Shore    0.0         81         88          84.5\n",
      "89          Northview Heights    0.0         90         85          87.5\n",
      "\n",
      "[90 rows x 5 columns]\n"
     ]
    }
   ],
   "source": [
    "sorted_parks['park_rank'] = sorted_parks.index + 1\n",
    "sorted_trees['tree_rank'] = sorted_trees.index + 1\n",
    "\n",
    "combined_ranks = sorted_parks.merge( sorted_trees[['neighborhood', 'tree_rank']], on='neighborhood',how='outer').fillna({'park_rank': 0, 'tree_rank': 0})\n",
    "\n",
    "combined_ranks['average_rank'] = (combined_ranks['park_rank'] + combined_ranks['tree_rank']) / 2\n",
    "\n",
    "combined_ranks_sorted = combined_ranks.sort_values(by='average_rank').reset_index(drop=True)\n",
    "\n",
    "file_path = \"final_metrics/combined_average_rankings_by_neighborhood.csv\"\n",
    "combined_ranks_sorted.to_csv(file_path, index=False)\n",
    "print(combined_ranks_sorted)"
   ]
  }
 ],
 "metadata": {
  "kernelspec": {
   "display_name": "cmpinf0010",
   "language": "python",
   "name": "python3"
  },
  "language_info": {
   "codemirror_mode": {
    "name": "ipython",
    "version": 3
   },
   "file_extension": ".py",
   "mimetype": "text/x-python",
   "name": "python",
   "nbconvert_exporter": "python",
   "pygments_lexer": "ipython3",
   "version": "3.12.4"
  }
 },
 "nbformat": 4,
 "nbformat_minor": 2
}
